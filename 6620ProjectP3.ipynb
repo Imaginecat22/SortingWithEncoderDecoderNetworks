{
 "cells": [
  {
   "cell_type": "code",
   "execution_count": 1,
   "metadata": {},
   "outputs": [
    {
     "name": "stderr",
     "output_type": "stream",
     "text": [
      "Using TensorFlow backend.\n"
     ]
    }
   ],
   "source": [
    "import numpy as np\n",
    "import keras\n",
    "import scipy\n",
    "\n",
    "import matplotlib.pyplot as plt\n",
    "%matplotlib inline\n",
    "\n",
    "from keras_tqdm import TQDMNotebookCallback\n",
    "from keras.models import model_from_json\n",
    "\n",
    "from random import randint\n",
    "from random import seed\n",
    "from numpy import array\n",
    "from numpy import argmax\n",
    "from numpy import array_equal\n",
    "from keras.utils import to_categorical\n",
    "from keras.models import Model\n",
    "from keras.layers import Input\n",
    "from keras.layers import LSTM\n",
    "from keras.layers import Dense\n",
    "\n",
    "import myencdecfuncs as my"
   ]
  },
  {
   "cell_type": "code",
   "execution_count": 2,
   "metadata": {},
   "outputs": [
    {
     "name": "stdout",
     "output_type": "stream",
     "text": [
      "[[ 0  1  2  3  4  5  6  7  8]\n",
      " [10 11 12 13 14 15 16 17 18]\n",
      " [20 21 22 23 24 25 26 27 28]]\n"
     ]
    }
   ],
   "source": [
    "temp = np.arange(30).reshape(3,10)\n",
    "print(temp[:,:-1])"
   ]
  },
  {
   "cell_type": "code",
   "execution_count": 3,
   "metadata": {
    "scrolled": false
   },
   "outputs": [
    {
     "name": "stdout",
     "output_type": "stream",
     "text": [
      "flatvec:  (2, 100) 2\n",
      "(2, 100) (2, 100) (2, 100)\n",
      "\n",
      "\n",
      " [[35 22 25 16 31  6 27  9 28  2]\n",
      " [12  4 19 27 21 24 13  3 27 22]\n",
      " [17  3 29 20 12 35 23  6 25 32]\n",
      " [18  7 13  6 33 10 22  3 12 26]\n",
      " [17 19 22 32 33  3 10 34  4 35]\n",
      " [35 34 19 32 25 31  4 10  5 22]\n",
      " [ 1 14 34 15 16 19  1 23 35 24]\n",
      " [28  7 10 32 11  8 32  8 35 25]\n",
      " [ 4 10 30 33 14 35 14 28 18  3]\n",
      " [26 13 11 15 28 23 15 28 12 35]] \n",
      "\n",
      " [[ 1 14 34 15 16 19  1 23 35 24]\n",
      " [ 4 10 30 33 14 35 14 28 18  3]\n",
      " [12  4 19 27 21 24 13  3 27 22]\n",
      " [17 19 22 32 33  3 10 34  4 35]\n",
      " [17  3 29 20 12 35 23  6 25 32]\n",
      " [18  7 13  6 33 10 22  3 12 26]\n",
      " [26 13 11 15 28 23 15 28 12 35]\n",
      " [28  7 10 32 11  8 32  8 35 25]\n",
      " [35 34 19 32 25 31  4 10  5 22]\n",
      " [35 22 25 16 31  6 27  9 28  2]]\n"
     ]
    }
   ],
   "source": [
    "#####For Demo\n",
    "tempunsorted, temppadded, temptarget = my.quickCreate(2,3)\n",
    "#print(tempunsorted, \"\\n\\n---------\\n\\n\", temppadded, \"\\n\\n---------\\n\\n\", temptarget)\n",
    "print(tempunsorted.shape, temppadded.shape, temptarget.shape)\n",
    "tu = tempunsorted[0].reshape(10, 10)\n",
    "tt = temptarget[0].reshape(10, 10)\n",
    "print(\"\\n\\n\", tu, \"\\n\\n\", tt)"
   ]
  },
  {
   "cell_type": "code",
   "execution_count": 4,
   "metadata": {},
   "outputs": [
    {
     "name": "stdout",
     "output_type": "stream",
     "text": [
      "Function Created!\n"
     ]
    }
   ],
   "source": [
    "#36, 36, 128\n",
    "def buildModels(encin, decin, outnum, hiddenUnits):\n",
    "    #some quick math\n",
    "    #if the arrays are the same, I'm putting the padval at start and end of the input arrays\n",
    "    if (encin == outnum):\n",
    "        encin += 1\n",
    "        decin += 1\n",
    "        outnum += 1\n",
    "   #this is the training model \n",
    "    #build training encoder\n",
    "    encoder_inputs = keras.layers.Input(shape=(None, encin))\n",
    "    encoder = keras.layers.LSTM(hiddenUnits, return_state=True)\n",
    "    encoder_outputs, state_h, state_c = encoder(encoder_inputs)\n",
    "    encoder_states = [state_h, state_c]\n",
    "    #build training decoder\n",
    "    decoder_inputs = keras.layers.Input(shape=(None, decin))\n",
    "    decoder_lstm = keras.layers.LSTM(hiddenUnits, return_sequences=True, return_state=True)\n",
    "    decoder_outputs, _, _ = decoder_lstm(decoder_inputs, initial_state=encoder_states)\n",
    "    decoder_dense = keras.layers.Dense(outnum, activation='softmax')\n",
    "    decoder_outputs = decoder_dense(decoder_outputs)\n",
    "    fmodel = keras.models.Model([encoder_inputs, decoder_inputs], decoder_outputs)\n",
    "    \n",
    "   #these are the separate inference models \n",
    "    #build inference encoder\n",
    "    encoder_model = keras.models.Model(encoder_inputs, encoder_states)\n",
    "    #build inference decoder\n",
    "    decoder_state_input_h = keras.layers.Input(shape=(hiddenUnits,))\n",
    "    decoder_state_input_c = keras.layers.Input(shape=(hiddenUnits,))\n",
    "    decoder_states_inputs = [decoder_state_input_h, decoder_state_input_c]\n",
    "    decoder_outputs, state_h, state_c = decoder_lstm(decoder_inputs, initial_state=decoder_states_inputs)\n",
    "    decoder_states = [state_h, state_c]\n",
    "    decoder_outputs = decoder_dense(decoder_outputs)\n",
    "    decoder_model = keras.models.Model([decoder_inputs] + decoder_states_inputs, \n",
    "                                       [decoder_outputs] + decoder_states)\n",
    "    \n",
    "    return fmodel, encoder_model, decoder_model\n",
    "\n",
    "print(\"Function Created!\")"
   ]
  },
  {
   "cell_type": "code",
   "execution_count": 5,
   "metadata": {},
   "outputs": [
    {
     "name": "stdout",
     "output_type": "stream",
     "text": [
      "Function Created!\n"
     ]
    }
   ],
   "source": [
    "#target = predict_sequence(encoder, decoder, X1, n_steps_out, n_features)\n",
    "#run the network without teacher-forcing\n",
    "def testNetwork(encoder, decoder, insequence, length, cardinality):\n",
    "    #encode the input sequence\n",
    "    state = encoder.predict(insequence)\n",
    "    #initializing array for the \"input\" to the decoder\n",
    "    decoder_prediction = np.zeros(shape=(1, 1, cardinality), dtype=float)\n",
    "    \n",
    "    #cycle through individual predictions\n",
    "    output = [] \n",
    "    for _ in range(length):\n",
    "        #predict next item\n",
    "        decout, h, c = decoder.predict([decoder_prediction] + state)\n",
    "        #store prediction\n",
    "        output.append(decout[0,0,:])\n",
    "        #update state\n",
    "        state = [h, c]\n",
    "        decoder_prediction = decout\n",
    "    return array(output)\n",
    "\n",
    "\n",
    "print(\"Function Created!\")"
   ]
  },
  {
   "cell_type": "code",
   "execution_count": 6,
   "metadata": {},
   "outputs": [
    {
     "name": "stdout",
     "output_type": "stream",
     "text": [
      "Model: \"model_1\"\n",
      "__________________________________________________________________________________________________\n",
      "Layer (type)                    Output Shape         Param #     Connected to                     \n",
      "==================================================================================================\n",
      "input_1 (InputLayer)            (None, None, 37)     0                                            \n",
      "__________________________________________________________________________________________________\n",
      "input_2 (InputLayer)            (None, None, 37)     0                                            \n",
      "__________________________________________________________________________________________________\n",
      "lstm_1 (LSTM)                   [(None, 256), (None, 301056      input_1[0][0]                    \n",
      "__________________________________________________________________________________________________\n",
      "lstm_2 (LSTM)                   [(None, None, 256),  301056      input_2[0][0]                    \n",
      "                                                                 lstm_1[0][1]                     \n",
      "                                                                 lstm_1[0][2]                     \n",
      "__________________________________________________________________________________________________\n",
      "dense_1 (Dense)                 (None, None, 37)     9509        lstm_2[0][0]                     \n",
      "==================================================================================================\n",
      "Total params: 611,621\n",
      "Trainable params: 611,621\n",
      "Non-trainable params: 0\n",
      "__________________________________________________________________________________________________\n",
      "flatvec:  (110, 100) 110\n",
      "The enc input, dec input, and output shapes:  (110, 100, 37) (110, 100, 37) (110, 100, 37)\n"
     ]
    }
   ],
   "source": [
    "#set relevant values\n",
    "#unlike previous parts, the input should be a flattened 2D matrix\n",
    "features = 36 #default value\n",
    "rows = 10\n",
    "cols = 10\n",
    "num_inputs = rows * cols\n",
    "num_matrices = 100\n",
    "hiddenUnits = 256 #not sure why this value (128*2)\n",
    "n_samples = 110 #original 100000\n",
    "startval = 1 #default value is 1\n",
    "padval = 0 #default value is 0\n",
    "\n",
    "#build, compile, and summarize the model\n",
    "model, encoder, decoder = buildModels(features, features, features, hiddenUnits)\n",
    "model.compile(optimizer=keras.optimizers.Adam(), loss=keras.losses.categorical_crossentropy, \n",
    "              metrics=['accuracy'])\n",
    "model.summary()\n",
    "\n",
    "# generate training dataset\n",
    "\n",
    "#my function uses default values for the input vector length (10), starting and ending values (1,36)\n",
    "#padding value (0), and the cardinality or number of classes (37)\n",
    "#the input values are the number of vectors (n_samples) and which function is used.\n",
    "#function 1 build training data for a simple row-by-row sort, function 2 uses the LNS task\n",
    "#and function 3 sorts only the first column of the matrix. \n",
    "in1, in2, out = my.quickBuild(n_samples, 3)\n",
    "print(\"The enc input, dec input, and output shapes: \", in1.shape, in2.shape, out.shape)"
   ]
  },
  {
   "cell_type": "code",
   "execution_count": 7,
   "metadata": {},
   "outputs": [
    {
     "data": {
      "application/vnd.jupyter.widget-view+json": {
       "model_id": "7ca737bb59674623859d4763a24ed87d",
       "version_major": 2,
       "version_minor": 0
      },
      "text/plain": [
       "HBox(children=(FloatProgress(value=0.0, description='Training', max=10.0, style=ProgressStyle(description_widt…"
      ]
     },
     "metadata": {},
     "output_type": "display_data"
    },
    {
     "data": {
      "application/vnd.jupyter.widget-view+json": {
       "model_id": "",
       "version_major": 2,
       "version_minor": 0
      },
      "text/plain": [
       "HBox(children=(FloatProgress(value=0.0, description='Epoch 0', max=88.0, style=ProgressStyle(description_width…"
      ]
     },
     "metadata": {},
     "output_type": "display_data"
    },
    {
     "data": {
      "application/vnd.jupyter.widget-view+json": {
       "model_id": "",
       "version_major": 2,
       "version_minor": 0
      },
      "text/plain": [
       "HBox(children=(FloatProgress(value=0.0, description='Epoch 1', max=88.0, style=ProgressStyle(description_width…"
      ]
     },
     "metadata": {},
     "output_type": "display_data"
    },
    {
     "data": {
      "application/vnd.jupyter.widget-view+json": {
       "model_id": "",
       "version_major": 2,
       "version_minor": 0
      },
      "text/plain": [
       "HBox(children=(FloatProgress(value=0.0, description='Epoch 2', max=88.0, style=ProgressStyle(description_width…"
      ]
     },
     "metadata": {},
     "output_type": "display_data"
    },
    {
     "data": {
      "application/vnd.jupyter.widget-view+json": {
       "model_id": "",
       "version_major": 2,
       "version_minor": 0
      },
      "text/plain": [
       "HBox(children=(FloatProgress(value=0.0, description='Epoch 3', max=88.0, style=ProgressStyle(description_width…"
      ]
     },
     "metadata": {},
     "output_type": "display_data"
    },
    {
     "data": {
      "application/vnd.jupyter.widget-view+json": {
       "model_id": "",
       "version_major": 2,
       "version_minor": 0
      },
      "text/plain": [
       "HBox(children=(FloatProgress(value=0.0, description='Epoch 4', max=88.0, style=ProgressStyle(description_width…"
      ]
     },
     "metadata": {},
     "output_type": "display_data"
    },
    {
     "data": {
      "application/vnd.jupyter.widget-view+json": {
       "model_id": "",
       "version_major": 2,
       "version_minor": 0
      },
      "text/plain": [
       "HBox(children=(FloatProgress(value=0.0, description='Epoch 5', max=88.0, style=ProgressStyle(description_width…"
      ]
     },
     "metadata": {},
     "output_type": "display_data"
    },
    {
     "data": {
      "application/vnd.jupyter.widget-view+json": {
       "model_id": "",
       "version_major": 2,
       "version_minor": 0
      },
      "text/plain": [
       "HBox(children=(FloatProgress(value=0.0, description='Epoch 6', max=88.0, style=ProgressStyle(description_width…"
      ]
     },
     "metadata": {},
     "output_type": "display_data"
    },
    {
     "data": {
      "application/vnd.jupyter.widget-view+json": {
       "model_id": "",
       "version_major": 2,
       "version_minor": 0
      },
      "text/plain": [
       "HBox(children=(FloatProgress(value=0.0, description='Epoch 7', max=88.0, style=ProgressStyle(description_width…"
      ]
     },
     "metadata": {},
     "output_type": "display_data"
    },
    {
     "data": {
      "application/vnd.jupyter.widget-view+json": {
       "model_id": "",
       "version_major": 2,
       "version_minor": 0
      },
      "text/plain": [
       "HBox(children=(FloatProgress(value=0.0, description='Epoch 8', max=88.0, style=ProgressStyle(description_width…"
      ]
     },
     "metadata": {},
     "output_type": "display_data"
    },
    {
     "data": {
      "application/vnd.jupyter.widget-view+json": {
       "model_id": "",
       "version_major": 2,
       "version_minor": 0
      },
      "text/plain": [
       "HBox(children=(FloatProgress(value=0.0, description='Epoch 9', max=88.0, style=ProgressStyle(description_width…"
      ]
     },
     "metadata": {},
     "output_type": "display_data"
    },
    {
     "name": "stdout",
     "output_type": "stream",
     "text": [
      "\n",
      "110/110 [==============================] - 1s 6ms/step\n",
      "Accuracy: 7.027272880077362 %\n"
     ]
    }
   ],
   "source": [
    "# train model\n",
    "myepochs = 10\n",
    "batch_size = 1\n",
    "history = model.fit([in1, in2], out, epochs=myepochs, batch_size = batch_size, verbose=0, validation_split=0.2,\n",
    "                   callbacks=[TQDMNotebookCallback()])\n",
    "\n",
    "print('Accuracy:', model.evaluate([in1, in2], out)[1]*100.0,'%')"
   ]
  },
  {
   "cell_type": "code",
   "execution_count": 8,
   "metadata": {},
   "outputs": [
    {
     "name": "stdout",
     "output_type": "stream",
     "text": [
      "Accuracy: 0.00%\n",
      "Input=[23, 18, 4, 22, 4, 32, 21, 15, 15, 11] Target=[4, 4, 11, 15, 15, 18, 21, 22, 23, 32], Output=[1, 14, 9, 9, 16, 16, 4, 4, 4, 4]\n",
      "Input=[13, 7, 8, 22, 33, 21, 3, 19, 12, 13] Target=[3, 7, 8, 12, 13, 13, 19, 21, 22, 33], Output=[2, 14, 9, 9, 16, 16, 4, 4, 4, 4]\n",
      "Input=[31, 13, 34, 35, 1, 16, 14, 14, 8, 6] Target=[1, 6, 8, 13, 14, 14, 16, 31, 34, 35], Output=[2, 14, 9, 9, 16, 16, 4, 4, 4, 4]\n",
      "Input=[20, 28, 6, 13, 1, 6, 4, 32, 8, 15] Target=[1, 4, 6, 6, 8, 13, 15, 20, 28, 32], Output=[1, 14, 9, 9, 16, 16, 4, 4, 4, 4]\n",
      "Input=[29, 14, 28, 4, 15, 28, 28, 19, 14, 33] Target=[4, 14, 14, 15, 19, 28, 28, 28, 29, 33], Output=[2, 14, 9, 9, 11, 16, 4, 4, 4, 4]\n",
      "Input=[28, 8, 14, 6, 22, 17, 31, 20, 4, 14] Target=[4, 6, 8, 14, 14, 17, 20, 22, 28, 31], Output=[2, 14, 9, 9, 16, 16, 4, 4, 4, 4]\n",
      "Input=[12, 21, 13, 12, 6, 10, 4, 13, 3, 20] Target=[3, 4, 6, 10, 12, 12, 13, 13, 20, 21], Output=[1, 14, 9, 9, 16, 16, 4, 4, 4, 4]\n",
      "Input=[11, 31, 18, 34, 8, 27, 23, 12, 20, 27] Target=[8, 11, 12, 18, 20, 23, 27, 27, 31, 34], Output=[1, 14, 9, 9, 16, 16, 4, 4, 4, 4]\n",
      "Input=[30, 28, 16, 6, 18, 26, 1, 15, 3, 8] Target=[1, 3, 6, 8, 15, 16, 18, 26, 28, 30], Output=[1, 14, 9, 9, 16, 16, 4, 4, 4, 4]\n",
      "Input=[19, 22, 30, 9, 34, 11, 30, 30, 11, 22] Target=[9, 11, 11, 19, 22, 22, 30, 30, 30, 34], Output=[1, 14, 9, 9, 16, 16, 4, 4, 4, 4]\n"
     ]
    }
   ],
   "source": [
    "#test encoder decoder model\n",
    "total, correct = 100, 0\n",
    "cardinality = features + 1\n",
    "length = 10\n",
    "\n",
    "#to get an accuracy check, test 100 sequences of 10 samples\n",
    "for _ in range(total):\n",
    "    #build 100 test sequences\n",
    "    testin1, testin2, testout = my.quickBuild(1,1)\n",
    "    #for each sample (1Darray)...\n",
    "    target = testNetwork(encoder, decoder, testin1, length, cardinality)\n",
    "    if array_equal(my.OHdecode(testout[0]), my.OHdecode(target)):\n",
    "        correct += 1\n",
    "\n",
    "print('Accuracy: %.2f%%' % (float(correct)/float(total)*100.0))\n",
    "\n",
    "\n",
    "#spot check some examples\n",
    "for _ in range(10):\n",
    "    X1, X2, y = my.quickBuild(1,1)\n",
    "    target = testNetwork(encoder, decoder, X1, length, cardinality)\n",
    "    print('Input=%s Target=%s, Output=%s' % (my.OHdecode(X1[0]), my.OHdecode(y[0]), my.OHdecode(target)))"
   ]
  },
  {
   "cell_type": "code",
   "execution_count": 9,
   "metadata": {},
   "outputs": [
    {
     "name": "stdout",
     "output_type": "stream",
     "text": [
      "Accuracy: 0.00%\n",
      "Input=[25, 12, 21, 30, 6, 5, 14, 28, 27, 27] Target=[5, 6, 12, 14, 21, 25, 27, 27, 28, 30], Output=[2, 14, 9, 9, 16, 16, 4, 4, 4, 4]\n",
      "Input=[31, 17, 2, 32, 1, 8, 24, 19, 12, 27] Target=[1, 2, 8, 12, 17, 19, 24, 27, 31, 32], Output=[1, 14, 9, 9, 16, 16, 4, 4, 4, 4]\n",
      "Input=[35, 6, 31, 30, 2, 10, 3, 1, 16, 21] Target=[1, 2, 3, 6, 10, 16, 21, 30, 31, 35], Output=[1, 14, 9, 9, 16, 16, 4, 4, 4, 4]\n",
      "Input=[27, 19, 17, 5, 10, 17, 35, 19, 28, 12] Target=[5, 10, 12, 17, 17, 19, 19, 27, 28, 35], Output=[1, 14, 9, 9, 9, 16, 4, 4, 4, 4]\n",
      "Input=[10, 22, 29, 27, 10, 31, 12, 15, 28, 32] Target=[10, 10, 12, 15, 22, 27, 28, 29, 31, 32], Output=[1, 14, 9, 9, 11, 16, 4, 4, 4, 4]\n",
      "Input=[19, 11, 12, 11, 7, 22, 9, 35, 27, 13] Target=[7, 9, 11, 11, 12, 13, 19, 22, 27, 35], Output=[2, 14, 9, 9, 16, 16, 4, 4, 4, 4]\n",
      "Input=[2, 15, 28, 31, 25, 16, 10, 21, 11, 29] Target=[2, 10, 11, 15, 16, 21, 25, 28, 29, 31], Output=[1, 14, 9, 9, 16, 16, 4, 4, 4, 4]\n",
      "Input=[19, 5, 19, 13, 35, 23, 19, 25, 27, 1] Target=[1, 5, 13, 19, 19, 19, 23, 25, 27, 35], Output=[2, 14, 9, 9, 16, 16, 4, 4, 4, 4]\n",
      "Input=[23, 14, 19, 21, 13, 33, 10, 28, 9, 35] Target=[9, 10, 13, 14, 19, 21, 23, 28, 33, 35], Output=[1, 14, 9, 9, 11, 16, 4, 4, 4, 4]\n",
      "Input=[35, 7, 25, 15, 35, 6, 35, 31, 23, 30] Target=[6, 7, 15, 23, 25, 30, 31, 35, 35, 35], Output=[1, 14, 9, 9, 11, 16, 4, 4, 4, 4]\n"
     ]
    }
   ],
   "source": [
    "#test encoder decoder model\n",
    "total, correct = 100, 0\n",
    "cardinality = features + 1\n",
    "length = 10\n",
    "\n",
    "#to get an accuracy check, test 100 sequences of 10 samples\n",
    "for _ in range(total):\n",
    "    #build 100 test sequences\n",
    "    testin1, testin2, testout = my.quickBuild(1,1)\n",
    "    #for each sample (1Darray)...\n",
    "    target = testNetwork(encoder, decoder, testin1, length, cardinality)\n",
    "    if array_equal(my.OHdecode(testout[0]), my.OHdecode(target)):\n",
    "        correct += 1\n",
    "\n",
    "print('Accuracy: %.2f%%' % (float(correct)/float(total)*100.0))\n",
    "\n",
    "\n",
    "#spot check some examples\n",
    "for _ in range(10):\n",
    "    X1, X2, y = my.quickBuild(1,1)\n",
    "    target = testNetwork(encoder, decoder, X1, length, cardinality)\n",
    "    print('Input=%s Target=%s, Output=%s' % (my.OHdecode(X1[0]), my.OHdecode(y[0]), my.OHdecode(target)))"
   ]
  },
  {
   "cell_type": "code",
   "execution_count": 10,
   "metadata": {},
   "outputs": [],
   "source": [
    "#model_json = model.to_json()\n",
    "#with open('3rdModel99pc.json', 'w') as json_file:\n",
    "#    json_file.write(model_json)\n",
    "#\n",
    "#model.save_weights(\"3rdModel99pc.h5\")\n",
    "#print(\"Saved Model to Disk\")"
   ]
  },
  {
   "cell_type": "code",
   "execution_count": 11,
   "metadata": {},
   "outputs": [
    {
     "data": {
      "image/png": "[encoded data removed]",
      "text/plain": [
       "<Figure size 432x288 with 2 Axes>"
      ]
     },
     "metadata": {
      "needs_background": "light"
     },
     "output_type": "display_data"
    }
   ],
   "source": [
    "plt.figure(1)\n",
    "#summarize history for accuracy\n",
    "plt.subplot(211)\n",
    "plt.plot(history.history['accuracy'])\n",
    "plt.title('model accuracy')\n",
    "plt.ylabel('accuracy')\n",
    "plt.xlabel('epoch')\n",
    "#summarize history for loss\n",
    "plt.subplot(212)\n",
    "plt.plot(history.history['loss'])\n",
    "plt.title('model loss')\n",
    "plt.ylabel('loss')\n",
    "plt.xlabel('epoch')\n",
    "plt.tight_layout()\n",
    "plt.show()"
   ]
  },
  {
   "cell_type": "code",
   "execution_count": null,
   "metadata": {},
   "outputs": [],
   "source": []
  }
 ],
 "metadata": {
  "kernelspec": {
   "display_name": "Python 3",
   "language": "python",
   "name": "python3"
  },
  "language_info": {
   "codemirror_mode": {
    "name": "ipython",
    "version": 3
   },
   "file_extension": ".py",
   "mimetype": "text/x-python",
   "name": "python",
   "nbconvert_exporter": "python",
   "pygments_lexer": "ipython3",
   "version": "3.7.3"
  }
 },
 "nbformat": 4,
 "nbformat_minor": 2
}
