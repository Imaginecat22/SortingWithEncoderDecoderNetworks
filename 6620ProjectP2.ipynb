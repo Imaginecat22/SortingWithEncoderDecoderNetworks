{
 "cells": [
  {
   "cell_type": "code",
   "execution_count": 1,
   "metadata": {},
   "outputs": [
    {
     "name": "stderr",
     "output_type": "stream",
     "text": [
      "Using TensorFlow backend.\n"
     ]
    }
   ],
   "source": [
    "#Robert Walters CSCI 6620\n",
    "\n",
    "import numpy as np\n",
    "import keras\n",
    "import scipy\n",
    "\n",
    "import matplotlib.pyplot as plt\n",
    "%matplotlib inline\n",
    "\n",
    "from keras_tqdm import TQDMNotebookCallback\n",
    "from keras.models import model_from_json\n",
    "\n",
    "from random import randint\n",
    "from numpy import array\n",
    "from numpy import argmax\n",
    "from numpy import array_equal\n",
    "from keras.utils import to_categorical\n",
    "from keras.models import Model\n",
    "from keras.layers import Input\n",
    "from keras.layers import LSTM\n",
    "from keras.layers import Dense\n",
    "\n",
    "import myencdecfuncs as my #this is a module I created for this project "
   ]
  },
  {
   "cell_type": "code",
   "execution_count": 2,
   "metadata": {
    "scrolled": false
   },
   "outputs": [
    {
     "name": "stdout",
     "output_type": "stream",
     "text": [
      "[[19 10 19  1  7 13 14 25 32  2]\n",
      " [22  9 10  8 15 22 17 27 11 21]] \n",
      "\n",
      "---------\n",
      "\n",
      " [[ 0  7  2  1 10 13 14 19 19 25]\n",
      " [ 0  8  9 10 11 15 17 21 22 22]]\n"
     ]
    }
   ],
   "source": [
    "#####For Demo\n",
    "temparr = my.quickCreate(2,2)\n",
    "print(temparr[0], \"\\n\\n---------\\n\\n\", temparr[1])"
   ]
  },
  {
   "cell_type": "code",
   "execution_count": 3,
   "metadata": {},
   "outputs": [
    {
     "name": "stdout",
     "output_type": "stream",
     "text": [
      "Function Created!\n"
     ]
    }
   ],
   "source": [
    "#36, 36, 128\n",
    "def buildModels(encin, decin, outnum, hiddenUnits):\n",
    "    #some quick math\n",
    "    #if the arrays are the same, I'm putting the padval at start and end of the input arrays\n",
    "    if (encin == outnum):\n",
    "        encin += 1\n",
    "        decin += 1\n",
    "        outnum += 1\n",
    "   #this is the training model \n",
    "    #build training encoder\n",
    "    encoder_inputs = keras.layers.Input(shape=(None, encin))\n",
    "    encoder = keras.layers.LSTM(hiddenUnits, return_state=True)\n",
    "    encoder_outputs, state_h, state_c = encoder(encoder_inputs)\n",
    "    encoder_states = [state_h, state_c]\n",
    "    #build training decoder\n",
    "    decoder_inputs = keras.layers.Input(shape=(None, decin))\n",
    "    decoder_lstm = keras.layers.LSTM(hiddenUnits, return_sequences=True, return_state=True)\n",
    "    decoder_outputs, _, _ = decoder_lstm(decoder_inputs, initial_state=encoder_states)\n",
    "    decoder_dense = keras.layers.Dense(outnum, activation='softmax')\n",
    "    decoder_outputs = decoder_dense(decoder_outputs)\n",
    "    fmodel = keras.models.Model([encoder_inputs, decoder_inputs], decoder_outputs)\n",
    "    \n",
    "   #these are the separate inference models \n",
    "    #build inference encoder\n",
    "    encoder_model = keras.models.Model(encoder_inputs, encoder_states)\n",
    "    #build inference decoder\n",
    "    decoder_state_input_h = keras.layers.Input(shape=(hiddenUnits,))\n",
    "    decoder_state_input_c = keras.layers.Input(shape=(hiddenUnits,))\n",
    "    decoder_states_inputs = [decoder_state_input_h, decoder_state_input_c]\n",
    "    decoder_outputs, state_h, state_c = decoder_lstm(decoder_inputs, initial_state=decoder_states_inputs)\n",
    "    decoder_states = [state_h, state_c]\n",
    "    decoder_outputs = decoder_dense(decoder_outputs)\n",
    "    decoder_model = keras.models.Model([decoder_inputs] + decoder_states_inputs, \n",
    "                                       [decoder_outputs] + decoder_states)\n",
    "    \n",
    "    return fmodel, encoder_model, decoder_model\n",
    "\n",
    "print(\"Function Created!\")"
   ]
  },
  {
   "cell_type": "code",
   "execution_count": 4,
   "metadata": {},
   "outputs": [
    {
     "name": "stdout",
     "output_type": "stream",
     "text": [
      "Function Created!\n"
     ]
    }
   ],
   "source": [
    "#target = predict_sequence(encoder, decoder, X1, n_steps_out, n_features)\n",
    "#run the network without teacher-forcing\n",
    "def testNetwork(encoder, decoder, insequence, length, cardinality):\n",
    "    #encode the input sequence\n",
    "    state = encoder.predict(insequence)\n",
    "    #initializing array for the \"input\" to the decoder\n",
    "    decoder_prediction = np.zeros(shape=(1, 1, cardinality), dtype=float)\n",
    "    \n",
    "    #cycle through individual predictions\n",
    "    output = [] \n",
    "    for _ in range(length):\n",
    "        #predict next item\n",
    "        decout, h, c = decoder.predict([decoder_prediction] + state)\n",
    "        #store prediction\n",
    "        output.append(decout[0,0,:])\n",
    "        #update state\n",
    "        state = [h, c]\n",
    "        decoder_prediction = decout\n",
    "    return array(output)\n",
    "\n",
    "\n",
    "print(\"Function Created!\")"
   ]
  },
  {
   "cell_type": "code",
   "execution_count": 5,
   "metadata": {},
   "outputs": [
    {
     "name": "stdout",
     "output_type": "stream",
     "text": [
      "Model: \"model_1\"\n",
      "__________________________________________________________________________________________________\n",
      "Layer (type)                    Output Shape         Param #     Connected to                     \n",
      "==================================================================================================\n",
      "input_1 (InputLayer)            (None, None, 37)     0                                            \n",
      "__________________________________________________________________________________________________\n",
      "input_2 (InputLayer)            (None, None, 37)     0                                            \n",
      "__________________________________________________________________________________________________\n",
      "lstm_1 (LSTM)                   [(None, 128), (None, 84992       input_1[0][0]                    \n",
      "__________________________________________________________________________________________________\n",
      "lstm_2 (LSTM)                   [(None, None, 128),  84992       input_2[0][0]                    \n",
      "                                                                 lstm_1[0][1]                     \n",
      "                                                                 lstm_1[0][2]                     \n",
      "__________________________________________________________________________________________________\n",
      "dense_1 (Dense)                 (None, None, 37)     4773        lstm_2[0][0]                     \n",
      "==================================================================================================\n",
      "Total params: 174,757\n",
      "Trainable params: 174,757\n",
      "Non-trainable params: 0\n",
      "__________________________________________________________________________________________________\n",
      "The enc input, dec input, and output shapes:  (100000, 10, 37) (100000, 10, 37) (100000, 10, 37)\n"
     ]
    }
   ],
   "source": [
    "#set relevant values\n",
    "#unlike previous parts, the input should be a flattened 2D matrix\n",
    "features = 36 #default value\n",
    "length = 10 \n",
    "#20 - 0pc, 40 - 2pc, 60 = 5pc, 118 - 18pc 120 - 10pc, 122 - 24pc, 125 - 8pc, 128 - 28pc\n",
    "#130 - 22pc, 132 - 25pc, 140 - 26pc, 180 - 11pc, 200 - 22pc\n",
    "hiddenUnits = 128 #original 128 \n",
    "n_samples = 100000 #original 100000\n",
    "startval = 1 #default value is 1\n",
    "padval = 0 #default value is 0\n",
    "\n",
    "#build, compile, and summarize the model\n",
    "model, encoder, decoder = buildModels(features, features, features, hiddenUnits)\n",
    "model.compile(optimizer=keras.optimizers.Adam(), loss=keras.losses.categorical_crossentropy, \n",
    "              metrics=['accuracy'])\n",
    "model.summary()\n",
    "\n",
    "# generate training dataset\n",
    "\n",
    "#my function uses default values for the input vector length (10), starting and ending values (1,36)\n",
    "#padding value (0), and the cardinality or number of classes (37)\n",
    "#the input values are the number of vectors (n_samples) and which function is used.\n",
    "#function 1 build training data for a simple row-by-row sort, function 2 uses the LNS task\n",
    "#and function 3 sorts only the first column of the matrix. \n",
    "in1, in2, out = my.quickBuild(n_samples, 2)\n",
    "print(\"The enc input, dec input, and output shapes: \", in1.shape, in2.shape, out.shape)"
   ]
  },
  {
   "cell_type": "code",
   "execution_count": 6,
   "metadata": {},
   "outputs": [
    {
     "data": {
      "application/vnd.jupyter.widget-view+json": {
       "model_id": "3b8f317590844534b6d4ffafec59201d",
       "version_major": 2,
       "version_minor": 0
      },
      "text/plain": [
       "HBox(children=(FloatProgress(value=0.0, description='Training', max=10.0, style=ProgressStyle(description_widt…"
      ]
     },
     "metadata": {},
     "output_type": "display_data"
    },
    {
     "data": {
      "application/vnd.jupyter.widget-view+json": {
       "model_id": "",
       "version_major": 2,
       "version_minor": 0
      },
      "text/plain": [
       "HBox(children=(FloatProgress(value=0.0, description='Epoch 0', max=80000.0, style=ProgressStyle(description_wi…"
      ]
     },
     "metadata": {},
     "output_type": "display_data"
    },
    {
     "data": {
      "application/vnd.jupyter.widget-view+json": {
       "model_id": "",
       "version_major": 2,
       "version_minor": 0
      },
      "text/plain": [
       "HBox(children=(FloatProgress(value=0.0, description='Epoch 1', max=80000.0, style=ProgressStyle(description_wi…"
      ]
     },
     "metadata": {},
     "output_type": "display_data"
    },
    {
     "data": {
      "application/vnd.jupyter.widget-view+json": {
       "model_id": "",
       "version_major": 2,
       "version_minor": 0
      },
      "text/plain": [
       "HBox(children=(FloatProgress(value=0.0, description='Epoch 2', max=80000.0, style=ProgressStyle(description_wi…"
      ]
     },
     "metadata": {},
     "output_type": "display_data"
    },
    {
     "data": {
      "application/vnd.jupyter.widget-view+json": {
       "model_id": "",
       "version_major": 2,
       "version_minor": 0
      },
      "text/plain": [
       "HBox(children=(FloatProgress(value=0.0, description='Epoch 3', max=80000.0, style=ProgressStyle(description_wi…"
      ]
     },
     "metadata": {},
     "output_type": "display_data"
    },
    {
     "data": {
      "application/vnd.jupyter.widget-view+json": {
       "model_id": "",
       "version_major": 2,
       "version_minor": 0
      },
      "text/plain": [
       "HBox(children=(FloatProgress(value=0.0, description='Epoch 4', max=80000.0, style=ProgressStyle(description_wi…"
      ]
     },
     "metadata": {},
     "output_type": "display_data"
    },
    {
     "data": {
      "application/vnd.jupyter.widget-view+json": {
       "model_id": "",
       "version_major": 2,
       "version_minor": 0
      },
      "text/plain": [
       "HBox(children=(FloatProgress(value=0.0, description='Epoch 5', max=80000.0, style=ProgressStyle(description_wi…"
      ]
     },
     "metadata": {},
     "output_type": "display_data"
    },
    {
     "data": {
      "application/vnd.jupyter.widget-view+json": {
       "model_id": "",
       "version_major": 2,
       "version_minor": 0
      },
      "text/plain": [
       "HBox(children=(FloatProgress(value=0.0, description='Epoch 6', max=80000.0, style=ProgressStyle(description_wi…"
      ]
     },
     "metadata": {},
     "output_type": "display_data"
    },
    {
     "data": {
      "application/vnd.jupyter.widget-view+json": {
       "model_id": "",
       "version_major": 2,
       "version_minor": 0
      },
      "text/plain": [
       "HBox(children=(FloatProgress(value=0.0, description='Epoch 7', max=80000.0, style=ProgressStyle(description_wi…"
      ]
     },
     "metadata": {},
     "output_type": "display_data"
    },
    {
     "data": {
      "application/vnd.jupyter.widget-view+json": {
       "model_id": "",
       "version_major": 2,
       "version_minor": 0
      },
      "text/plain": [
       "HBox(children=(FloatProgress(value=0.0, description='Epoch 8', max=80000.0, style=ProgressStyle(description_wi…"
      ]
     },
     "metadata": {},
     "output_type": "display_data"
    },
    {
     "data": {
      "application/vnd.jupyter.widget-view+json": {
       "model_id": "",
       "version_major": 2,
       "version_minor": 0
      },
      "text/plain": [
       "HBox(children=(FloatProgress(value=0.0, description='Epoch 9', max=80000.0, style=ProgressStyle(description_wi…"
      ]
     },
     "metadata": {},
     "output_type": "display_data"
    },
    {
     "name": "stdout",
     "output_type": "stream",
     "text": [
      "\n",
      "100000/100000 [==============================] - 22s 217us/step\n",
      "Accuracy: 99.99300241470337 %\n"
     ]
    }
   ],
   "source": [
    "#train teacher-forcing model\n",
    "myepochs = 10\n",
    "my_batch_size = 1\n",
    "history = model.fit([in1, in2], out, epochs=myepochs, batch_size = my_batch_size, verbose=0, validation_split=0.2,\n",
    "                   callbacks=[TQDMNotebookCallback()])\n",
    "\n",
    "print('Accuracy:', model.evaluate([in1, in2], out)[1]*100.0,'%')"
   ]
  },
  {
   "cell_type": "code",
   "execution_count": 11,
   "metadata": {},
   "outputs": [
    {
     "name": "stdout",
     "output_type": "stream",
     "text": [
      "Accuracy: 25.00%\n",
      "Input=[19, 11, 3, 5, 35, 9, 32, 4, 33, 5] Target=[3, 4, 5, 5, 9, 11, 19, 32, 33, 35], Output=[5, 5, 4, 3, 9, 11, 19, 32, 33, 35]\n",
      "Input=[14, 7, 25, 33, 25, 27, 1, 1, 29, 21] Target=[1, 1, 7, 14, 21, 25, 25, 27, 29, 33], Output=[7, 1, 1, 14, 21, 25, 25, 27, 29, 33]\n",
      "Input=[18, 6, 18, 10, 5, 5, 11, 13, 21, 7] Target=[5, 5, 6, 7, 10, 11, 13, 18, 18, 21], Output=[7, 6, 5, 5, 10, 11, 13, 18, 18, 21]\n",
      "Input=[4, 17, 35, 30, 17, 33, 26, 4, 22, 13] Target=[4, 4, 13, 17, 17, 22, 26, 30, 33, 35], Output=[4, 4, 13, 17, 17, 22, 26, 30, 33, 35]\n",
      "Input=[30, 21, 15, 20, 17, 35, 6, 27, 14, 35] Target=[6, 14, 15, 17, 20, 21, 27, 30, 35, 35], Output=[6, 14, 15, 17, 20, 21, 27, 30, 35, 35]\n",
      "Input=[6, 33, 3, 29, 11, 5, 15, 31, 10, 33] Target=[3, 5, 6, 10, 11, 15, 29, 31, 33, 33], Output=[6, 5, 3, 10, 11, 15, 29, 31, 33, 33]\n",
      "Input=[16, 30, 25, 20, 6, 6, 20, 1, 14, 10] Target=[1, 6, 6, 10, 14, 16, 20, 20, 25, 30], Output=[6, 6, 1, 10, 14, 16, 20, 20, 25, 30]\n",
      "Input=[10, 6, 4, 9, 35, 6, 12, 30, 32, 29] Target=[4, 6, 6, 9, 10, 12, 29, 30, 32, 35], Output=[6, 6, 4, 9, 10, 12, 29, 30, 32, 35]\n",
      "Input=[9, 14, 2, 17, 9, 6, 13, 32, 6, 10] Target=[2, 6, 6, 9, 9, 10, 13, 14, 17, 32], Output=[6, 6, 2, 9, 9, 10, 13, 14, 17, 32]\n",
      "Input=[35, 33, 20, 22, 33, 8, 14, 33, 11, 25] Target=[8, 11, 14, 20, 22, 25, 33, 33, 33, 35], Output=[8, 11, 14, 20, 22, 25, 33, 33, 33, 35]\n"
     ]
    }
   ],
   "source": [
    "#test encoder decoder model\n",
    "total, correct = 100, 0\n",
    "cardinality = features + 1\n",
    "length = 10\n",
    "\n",
    "#to get an accuracy check, test 100 sequences of 10 samples\n",
    "for _ in range(total):\n",
    "    #build 100 test sequences\n",
    "    testin1, testin2, testout = my.quickBuild(1,1)\n",
    "    #for each sample (1Darray)...\n",
    "    target = testNetwork(encoder, decoder, testin1, length, cardinality)\n",
    "    if array_equal(my.OHdecode(testout[0]), my.OHdecode(target)):\n",
    "        correct += 1\n",
    "\n",
    "print('Accuracy: %.2f%%' % (float(correct)/float(total)*100.0))\n",
    "\n",
    "\n",
    "#spot check some examples\n",
    "for _ in range(10):\n",
    "    X1, X2, y = my.quickBuild(1,1)\n",
    "    target = testNetwork(encoder, decoder, X1, length, cardinality)\n",
    "    print('Input=%s Target=%s, Output=%s' % (my.OHdecode(X1[0]), my.OHdecode(y[0]), my.OHdecode(target)))"
   ]
  },
  {
   "cell_type": "code",
   "execution_count": 12,
   "metadata": {},
   "outputs": [
    {
     "name": "stdout",
     "output_type": "stream",
     "text": [
      "Accuracy: 20.00%\n",
      "Input=[11, 30, 15, 20, 21, 5, 16, 1, 24, 18] Target=[1, 5, 11, 15, 16, 18, 20, 21, 24, 30], Output=[5, 1, 11, 15, 16, 18, 20, 21, 24, 30]\n",
      "Input=[29, 1, 2, 2, 14, 16, 24, 15, 29, 30] Target=[1, 2, 2, 14, 15, 16, 24, 29, 29, 30], Output=[2, 2, 1, 14, 15, 16, 24, 29, 29, 30]\n",
      "Input=[20, 15, 5, 12, 6, 13, 19, 2, 25, 29] Target=[2, 5, 6, 12, 13, 15, 19, 20, 25, 29], Output=[6, 5, 2, 12, 13, 15, 19, 20, 25, 29]\n",
      "Input=[27, 17, 29, 19, 5, 32, 18, 31, 2, 11] Target=[2, 5, 11, 17, 18, 19, 27, 29, 31, 32], Output=[5, 2, 11, 17, 18, 19, 27, 29, 31, 32]\n",
      "Input=[27, 20, 12, 27, 34, 32, 27, 23, 35, 30] Target=[12, 20, 23, 27, 27, 27, 30, 32, 34, 35], Output=[12, 20, 23, 27, 27, 27, 30, 32, 34, 35]\n",
      "Input=[8, 30, 28, 32, 6, 25, 14, 9, 14, 14] Target=[6, 8, 9, 14, 14, 14, 25, 28, 30, 32], Output=[8, 6, 9, 14, 14, 14, 25, 28, 30, 32]\n",
      "Input=[30, 19, 18, 28, 2, 33, 29, 9, 21, 30] Target=[2, 9, 18, 19, 21, 28, 29, 30, 30, 33], Output=[2, 9, 18, 19, 21, 28, 29, 30, 30, 33]\n",
      "Input=[14, 9, 12, 27, 24, 14, 33, 28, 2, 10] Target=[2, 9, 10, 12, 14, 14, 24, 27, 28, 33], Output=[2, 9, 10, 12, 14, 14, 24, 27, 28, 33]\n",
      "Input=[29, 19, 11, 30, 9, 18, 21, 9, 13, 26] Target=[9, 9, 11, 13, 18, 19, 21, 26, 29, 30], Output=[9, 9, 11, 13, 18, 19, 21, 26, 29, 30]\n",
      "Input=[7, 14, 1, 28, 26, 20, 25, 34, 11, 35] Target=[1, 7, 11, 14, 20, 25, 26, 28, 34, 35], Output=[7, 1, 11, 14, 20, 25, 26, 28, 34, 35]\n"
     ]
    }
   ],
   "source": [
    "#Test encoder-decoder model\n",
    "total, correct = 100, 0\n",
    "cardinality = features + 1\n",
    "length = 10\n",
    "\n",
    "#to get an accuracy check, test 100 sequences of 10 samples\n",
    "for _ in range(total):\n",
    "    #build 100 test sequences\n",
    "    testin1, testin2, testout = my.quickBuild(1,1)\n",
    "    #for each sample (1Darray)...\n",
    "    target = testNetwork(encoder, decoder, testin1, length, cardinality)\n",
    "    if array_equal(my.OHdecode(testout[0]), my.OHdecode(target)):\n",
    "        correct += 1\n",
    "\n",
    "print('Accuracy: %.2f%%' % (float(correct)/float(total)*100.0))\n",
    "\n",
    "\n",
    "#spot check some examples\n",
    "for _ in range(10):\n",
    "    X1, X2, y = my.quickBuild(1,1)\n",
    "    target = testNetwork(encoder, decoder, X1, length, cardinality)\n",
    "    print('Input=%s Target=%s, Output=%s' % (my.OHdecode(X1[0]), my.OHdecode(y[0]), my.OHdecode(target)))"
   ]
  },
  {
   "cell_type": "code",
   "execution_count": 9,
   "metadata": {},
   "outputs": [
    {
     "data": {
      "image/png": "[encoded data removed]",
      "text/plain": [
       "<Figure size 432x288 with 2 Axes>"
      ]
     },
     "metadata": {
      "needs_background": "light"
     },
     "output_type": "display_data"
    }
   ],
   "source": [
    "plt.figure(1)\n",
    "#summarize history for accuracy\n",
    "plt.subplot(211)\n",
    "plt.plot(history.history['accuracy'])\n",
    "plt.title('model accuracy')\n",
    "plt.ylabel('accuracy')\n",
    "plt.xlabel('epoch')\n",
    "#summarize history for loss\n",
    "plt.subplot(212)\n",
    "plt.plot(history.history['loss'])\n",
    "plt.title('model loss')\n",
    "plt.ylabel('loss')\n",
    "plt.xlabel('epoch')\n",
    "plt.tight_layout()\n",
    "plt.show()"
   ]
  },
  {
   "cell_type": "code",
   "execution_count": 10,
   "metadata": {},
   "outputs": [],
   "source": [
    "#model_json = model.to_json()\n",
    "#with open('2ndModel99pc2.json', 'w') as json_file:\n",
    "#    json_file.write(model_json)\n",
    "#\n",
    "#model.save_weights(\"2ndModel99pc2.h5\")\n",
    "#print(\"Saved Model to Disk\")"
   ]
  },
  {
   "cell_type": "code",
   "execution_count": null,
   "metadata": {},
   "outputs": [],
   "source": []
  }
 ],
 "metadata": {
  "kernelspec": {
   "display_name": "Python 3",
   "language": "python",
   "name": "python3"
  },
  "language_info": {
   "codemirror_mode": {
    "name": "ipython",
    "version": 3
   },
   "file_extension": ".py",
   "mimetype": "text/x-python",
   "name": "python",
   "nbconvert_exporter": "python",
   "pygments_lexer": "ipython3",
   "version": "3.7.3"
  }
 },
 "nbformat": 4,
 "nbformat_minor": 2
}
