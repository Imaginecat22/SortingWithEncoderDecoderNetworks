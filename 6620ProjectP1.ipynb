{
 "cells": [
  {
   "cell_type": "code",
   "execution_count": 1,
   "metadata": {},
   "outputs": [
    {
     "name": "stderr",
     "output_type": "stream",
     "text": [
      "Using TensorFlow backend.\n"
     ]
    }
   ],
   "source": [
    "#Robert Walters CSCI 6620\n",
    "\n",
    "import numpy as np\n",
    "import keras\n",
    "import scipy\n",
    "\n",
    "import matplotlib.pyplot as plt\n",
    "%matplotlib inline\n",
    "\n",
    "from keras_tqdm import TQDMNotebookCallback\n",
    "from keras.models import model_from_json\n",
    "\n",
    "from random import randint\n",
    "from numpy import array\n",
    "from numpy import argmax\n",
    "from numpy import array_equal\n",
    "from keras.utils import to_categorical\n",
    "from keras.models import Model\n",
    "from keras.layers import Input\n",
    "from keras.layers import LSTM\n",
    "from keras.layers import Dense\n",
    "\n",
    "import myencdecfuncs as my #this is a module I created for this project "
   ]
  },
  {
   "cell_type": "code",
   "execution_count": 2,
   "metadata": {
    "scrolled": false
   },
   "outputs": [
    {
     "name": "stdout",
     "output_type": "stream",
     "text": [
      "[[30 14  5 31 35 24  1 18  5 27]\n",
      " [30 13 29  2 33  7 33 30 31  1]] \n",
      "\n",
      "---------\n",
      "\n",
      " [[ 0  1  5  5 14 18 24 27 30 31]\n",
      " [ 0  1  2  7 13 29 30 30 31 33]]\n"
     ]
    }
   ],
   "source": [
    "#####For Demo\n",
    "temparr = my.quickCreate(2,1)\n",
    "print(temparr[0], \"\\n\\n---------\\n\\n\", temparr[1])"
   ]
  },
  {
   "cell_type": "code",
   "execution_count": 3,
   "metadata": {},
   "outputs": [
    {
     "name": "stdout",
     "output_type": "stream",
     "text": [
      "Function Created!\n"
     ]
    }
   ],
   "source": [
    "#36, 36, 128\n",
    "def buildModels(encin, decin, outnum, hiddenUnits):\n",
    "    #some quick math\n",
    "    #if the arrays are the same, I'm putting the padval at start and end of the input arrays\n",
    "    if (encin == outnum):\n",
    "        encin += 1\n",
    "        decin += 1\n",
    "        outnum += 1\n",
    "   #this is the training model \n",
    "    #build training encoder\n",
    "    encoder_inputs = keras.layers.Input(shape=(None, encin))\n",
    "    encoder = keras.layers.LSTM(hiddenUnits, return_state=True)\n",
    "    encoder_outputs, state_h, state_c = encoder(encoder_inputs)\n",
    "    encoder_states = [state_h, state_c]\n",
    "    #build training decoder\n",
    "    decoder_inputs = keras.layers.Input(shape=(None, decin))\n",
    "    decoder_lstm = keras.layers.LSTM(hiddenUnits, return_sequences=True, return_state=True)\n",
    "    decoder_outputs, _, _ = decoder_lstm(decoder_inputs, initial_state=encoder_states)\n",
    "    decoder_dense = keras.layers.Dense(outnum, activation='softmax')\n",
    "    decoder_outputs = decoder_dense(decoder_outputs)\n",
    "    fmodel = keras.models.Model([encoder_inputs, decoder_inputs], decoder_outputs)\n",
    "    \n",
    "   #these are the separate inference models \n",
    "    #build inference encoder\n",
    "    encoder_model = keras.models.Model(encoder_inputs, encoder_states)\n",
    "    #build inference decoder\n",
    "    decoder_state_input_h = keras.layers.Input(shape=(hiddenUnits,))\n",
    "    decoder_state_input_c = keras.layers.Input(shape=(hiddenUnits,))\n",
    "    decoder_states_inputs = [decoder_state_input_h, decoder_state_input_c]\n",
    "    decoder_outputs, state_h, state_c = decoder_lstm(decoder_inputs, initial_state=decoder_states_inputs)\n",
    "    decoder_states = [state_h, state_c]\n",
    "    decoder_outputs = decoder_dense(decoder_outputs)\n",
    "    decoder_model = keras.models.Model([decoder_inputs] + decoder_states_inputs, \n",
    "                                       [decoder_outputs] + decoder_states)\n",
    "    \n",
    "    return fmodel, encoder_model, decoder_model\n",
    "\n",
    "print(\"Function Created!\")"
   ]
  },
  {
   "cell_type": "code",
   "execution_count": 4,
   "metadata": {},
   "outputs": [
    {
     "name": "stdout",
     "output_type": "stream",
     "text": [
      "Function Created!\n"
     ]
    }
   ],
   "source": [
    "#target = predict_sequence(encoder, decoder, X1, n_steps_out, n_features)\n",
    "#run the network without teacher-forcing\n",
    "def testNetwork(encoder, decoder, insequence, length, cardinality):\n",
    "    #encode the input sequence\n",
    "    state = encoder.predict(insequence)\n",
    "    #initializing array for the \"input\" to the decoder\n",
    "    decoder_prediction = np.zeros(shape=(1, 1, cardinality), dtype=float)\n",
    "    \n",
    "    #cycle through the individual predictions\n",
    "    output = [] \n",
    "    for _ in range(length):\n",
    "        #predict next item\n",
    "        decout, h, c = decoder.predict([decoder_prediction] + state)\n",
    "        #store prediction\n",
    "        output.append(decout[0,0,:])\n",
    "        #update state\n",
    "        state = [h, c]\n",
    "        decoder_prediction = decout\n",
    "        \n",
    "    return array(output)\n",
    "\n",
    "print(\"Function Created!\")"
   ]
  },
  {
   "cell_type": "code",
   "execution_count": 5,
   "metadata": {},
   "outputs": [
    {
     "name": "stdout",
     "output_type": "stream",
     "text": [
      "Model: \"model_1\"\n",
      "__________________________________________________________________________________________________\n",
      "Layer (type)                    Output Shape         Param #     Connected to                     \n",
      "==================================================================================================\n",
      "input_1 (InputLayer)            (None, None, 37)     0                                            \n",
      "__________________________________________________________________________________________________\n",
      "input_2 (InputLayer)            (None, None, 37)     0                                            \n",
      "__________________________________________________________________________________________________\n",
      "lstm_1 (LSTM)                   [(None, 130), (None, 87360       input_1[0][0]                    \n",
      "__________________________________________________________________________________________________\n",
      "lstm_2 (LSTM)                   [(None, None, 130),  87360       input_2[0][0]                    \n",
      "                                                                 lstm_1[0][1]                     \n",
      "                                                                 lstm_1[0][2]                     \n",
      "__________________________________________________________________________________________________\n",
      "dense_1 (Dense)                 (None, None, 37)     4847        lstm_2[0][0]                     \n",
      "==================================================================================================\n",
      "Total params: 179,567\n",
      "Trainable params: 179,567\n",
      "Non-trainable params: 0\n",
      "__________________________________________________________________________________________________\n",
      "The enc input, dec input, and output shapes:  (10000, 10, 37) (10000, 10, 37) (10000, 10, 37)\n"
     ]
    }
   ],
   "source": [
    "#set relevant values\n",
    "features = 36 #default value\n",
    "length = 10 \n",
    "#20 - 0pc, 40 - 20pc, 60 = 39pc, 118 - 44pc 120 - 66pc, 122 - 75pc, 125 - 47pc, 128 - 60pc, 140 - 58pc\n",
    "#130 - 76pc, 132 - 65pc\n",
    "hiddenUnits = 130 #original 128 \n",
    "n_samples = 10000 #original 100000\n",
    "startval = 1 #default value is 1\n",
    "padval = 0 #default value is 0\n",
    "\n",
    "#build, compile, and summarize the model\n",
    "model, encoder, decoder = buildModels(features, features, features, hiddenUnits)\n",
    "model.compile(optimizer=keras.optimizers.Adam(), loss=keras.losses.categorical_crossentropy, \n",
    "              metrics=['accuracy'])\n",
    "model.summary()\n",
    "\n",
    "# generate training dataset\n",
    "\n",
    "#my function uses default values for the input vector length (10), starting and ending values (1,36)\n",
    "#padding value (0), and the cardinality or number of classes (37)\n",
    "#the input values are the number of vectors (n_samples) and which function is used.\n",
    "#function 1 build training data for a simple row-by-row ascending sort \n",
    "#function 2 uses the LNS task (0-9 descinding followed by 10-36 ascending sort in the same array)\n",
    "#function 3 sorts only the first column of a matrix, and then flattens it into a length * length array\n",
    "in1, in2, out = my.quickBuild(n_samples, 1)\n",
    "print(\"The enc input, dec input, and output shapes: \", in1.shape, in2.shape, out.shape)"
   ]
  },
  {
   "cell_type": "code",
   "execution_count": 6,
   "metadata": {},
   "outputs": [
    {
     "data": {
      "application/vnd.jupyter.widget-view+json": {
       "model_id": "9c3ca1e2415f4f90ac3aa7a45f0205d0",
       "version_major": 2,
       "version_minor": 0
      },
      "text/plain": [
       "HBox(children=(FloatProgress(value=0.0, description='Training', max=10.0, style=ProgressStyle(description_widt…"
      ]
     },
     "metadata": {},
     "output_type": "display_data"
    },
    {
     "data": {
      "application/vnd.jupyter.widget-view+json": {
       "model_id": "",
       "version_major": 2,
       "version_minor": 0
      },
      "text/plain": [
       "HBox(children=(FloatProgress(value=0.0, description='Epoch 0', max=8000.0, style=ProgressStyle(description_wid…"
      ]
     },
     "metadata": {},
     "output_type": "display_data"
    },
    {
     "data": {
      "application/vnd.jupyter.widget-view+json": {
       "model_id": "",
       "version_major": 2,
       "version_minor": 0
      },
      "text/plain": [
       "HBox(children=(FloatProgress(value=0.0, description='Epoch 1', max=8000.0, style=ProgressStyle(description_wid…"
      ]
     },
     "metadata": {},
     "output_type": "display_data"
    },
    {
     "data": {
      "application/vnd.jupyter.widget-view+json": {
       "model_id": "",
       "version_major": 2,
       "version_minor": 0
      },
      "text/plain": [
       "HBox(children=(FloatProgress(value=0.0, description='Epoch 2', max=8000.0, style=ProgressStyle(description_wid…"
      ]
     },
     "metadata": {},
     "output_type": "display_data"
    },
    {
     "data": {
      "application/vnd.jupyter.widget-view+json": {
       "model_id": "",
       "version_major": 2,
       "version_minor": 0
      },
      "text/plain": [
       "HBox(children=(FloatProgress(value=0.0, description='Epoch 3', max=8000.0, style=ProgressStyle(description_wid…"
      ]
     },
     "metadata": {},
     "output_type": "display_data"
    },
    {
     "data": {
      "application/vnd.jupyter.widget-view+json": {
       "model_id": "",
       "version_major": 2,
       "version_minor": 0
      },
      "text/plain": [
       "HBox(children=(FloatProgress(value=0.0, description='Epoch 4', max=8000.0, style=ProgressStyle(description_wid…"
      ]
     },
     "metadata": {},
     "output_type": "display_data"
    },
    {
     "data": {
      "application/vnd.jupyter.widget-view+json": {
       "model_id": "",
       "version_major": 2,
       "version_minor": 0
      },
      "text/plain": [
       "HBox(children=(FloatProgress(value=0.0, description='Epoch 5', max=8000.0, style=ProgressStyle(description_wid…"
      ]
     },
     "metadata": {},
     "output_type": "display_data"
    },
    {
     "data": {
      "application/vnd.jupyter.widget-view+json": {
       "model_id": "",
       "version_major": 2,
       "version_minor": 0
      },
      "text/plain": [
       "HBox(children=(FloatProgress(value=0.0, description='Epoch 6', max=8000.0, style=ProgressStyle(description_wid…"
      ]
     },
     "metadata": {},
     "output_type": "display_data"
    },
    {
     "data": {
      "application/vnd.jupyter.widget-view+json": {
       "model_id": "",
       "version_major": 2,
       "version_minor": 0
      },
      "text/plain": [
       "HBox(children=(FloatProgress(value=0.0, description='Epoch 7', max=8000.0, style=ProgressStyle(description_wid…"
      ]
     },
     "metadata": {},
     "output_type": "display_data"
    },
    {
     "data": {
      "application/vnd.jupyter.widget-view+json": {
       "model_id": "",
       "version_major": 2,
       "version_minor": 0
      },
      "text/plain": [
       "HBox(children=(FloatProgress(value=0.0, description='Epoch 8', max=8000.0, style=ProgressStyle(description_wid…"
      ]
     },
     "metadata": {},
     "output_type": "display_data"
    },
    {
     "data": {
      "application/vnd.jupyter.widget-view+json": {
       "model_id": "",
       "version_major": 2,
       "version_minor": 0
      },
      "text/plain": [
       "HBox(children=(FloatProgress(value=0.0, description='Epoch 9', max=8000.0, style=ProgressStyle(description_wid…"
      ]
     },
     "metadata": {},
     "output_type": "display_data"
    },
    {
     "name": "stdout",
     "output_type": "stream",
     "text": [
      "\n",
      "10000/10000 [==============================] - 2s 187us/step\n",
      "Accuracy: 99.8449981212616 %\n"
     ]
    }
   ],
   "source": [
    "#train teacher-forcing model\n",
    "myepochs = 10\n",
    "my_batch_size = 1\n",
    "history = model.fit([in1, in2], out, epochs=myepochs, batch_size = my_batch_size, verbose=0, validation_split=0.2,\n",
    "                   callbacks=[TQDMNotebookCallback()])\n",
    "\n",
    "print('Accuracy:', model.evaluate([in1, in2], out)[1]*100.0,'%')"
   ]
  },
  {
   "cell_type": "code",
   "execution_count": 7,
   "metadata": {},
   "outputs": [
    {
     "name": "stdout",
     "output_type": "stream",
     "text": [
      "Accuracy: 86.00%\n",
      "Input=[18, 23, 1, 2, 33, 23, 1, 34, 34, 25] Target=[1, 1, 2, 18, 23, 23, 25, 33, 34, 34], Output=[1, 1, 2, 18, 23, 23, 25, 33, 34, 34]\n",
      "Input=[16, 35, 14, 14, 5, 21, 4, 14, 30, 26] Target=[4, 5, 14, 14, 14, 16, 21, 26, 30, 35], Output=[4, 5, 14, 14, 14, 16, 21, 26, 30, 35]\n",
      "Input=[26, 30, 12, 27, 15, 10, 3, 4, 2, 16] Target=[2, 3, 4, 10, 12, 15, 16, 26, 27, 30], Output=[2, 3, 4, 10, 12, 15, 16, 26, 27, 30]\n",
      "Input=[21, 9, 12, 14, 13, 5, 8, 33, 1, 6] Target=[1, 5, 6, 8, 9, 12, 13, 14, 21, 33], Output=[1, 5, 6, 8, 9, 12, 13, 14, 21, 33]\n",
      "Input=[6, 31, 20, 9, 9, 16, 19, 5, 27, 6] Target=[5, 6, 6, 9, 9, 16, 19, 20, 27, 31], Output=[5, 6, 6, 9, 9, 16, 19, 20, 27, 31]\n",
      "Input=[13, 18, 1, 32, 6, 27, 24, 4, 8, 19] Target=[1, 4, 6, 8, 13, 18, 19, 24, 27, 32], Output=[1, 4, 6, 8, 13, 18, 19, 24, 27, 32]\n",
      "Input=[23, 25, 7, 30, 9, 27, 29, 14, 23, 8] Target=[7, 8, 9, 14, 23, 23, 25, 27, 29, 30], Output=[7, 8, 9, 14, 23, 23, 25, 27, 29, 30]\n",
      "Input=[23, 12, 20, 31, 2, 24, 14, 21, 33, 29] Target=[2, 12, 14, 20, 21, 23, 24, 29, 31, 33], Output=[2, 12, 14, 20, 21, 23, 24, 29, 31, 33]\n",
      "Input=[18, 35, 3, 24, 3, 30, 5, 33, 29, 18] Target=[3, 3, 5, 18, 18, 24, 29, 30, 33, 35], Output=[3, 3, 5, 18, 18, 24, 29, 30, 33, 35]\n",
      "Input=[5, 2, 6, 14, 25, 1, 15, 31, 21, 30] Target=[1, 2, 5, 6, 14, 15, 21, 25, 30, 31], Output=[1, 2, 5, 6, 14, 15, 21, 25, 30, 31]\n"
     ]
    }
   ],
   "source": [
    "# evaluate LSTM\n",
    "total, correct = 100, 0\n",
    "cardinality = features + 1\n",
    "length = 10\n",
    "\n",
    "#to get an accuracy check, test 100 sequences of 10 samples\n",
    "for _ in range(total):\n",
    "    #build 100 test sequences\n",
    "    testin1, testin2, testout = my.quickBuild(1,1)\n",
    "    #for each sample (1Darray)...\n",
    "    target = testNetwork(encoder, decoder, testin1, length, cardinality)\n",
    "    if array_equal(my.OHdecode(testout[0]), my.OHdecode(target)):\n",
    "        correct += 1\n",
    "\n",
    "print('Accuracy: %.2f%%' % (float(correct)/float(total)*100.0))\n",
    "\n",
    "\n",
    "#spot check some sequences\n",
    "for _ in range(10):\n",
    "    X1, X2, y = my.quickBuild(1,1)\n",
    "    target = testNetwork(encoder, decoder, X1, length, cardinality)\n",
    "    print('Input=%s Target=%s, Output=%s' % (my.OHdecode(X1[0]), my.OHdecode(y[0]), my.OHdecode(target)))"
   ]
  },
  {
   "cell_type": "code",
   "execution_count": 8,
   "metadata": {},
   "outputs": [
    {
     "name": "stdout",
     "output_type": "stream",
     "text": [
      "Accuracy: 86.00%\n",
      "Input=[12, 25, 15, 28, 5, 10, 23, 18, 28, 9] Target=[5, 9, 10, 12, 15, 18, 23, 25, 28, 28], Output=[5, 9, 10, 12, 15, 18, 23, 25, 28, 28]\n",
      "Input=[2, 30, 5, 3, 5, 18, 31, 19, 7, 22] Target=[2, 3, 5, 5, 7, 18, 19, 22, 30, 31], Output=[2, 3, 5, 5, 7, 18, 19, 22, 30, 31]\n",
      "Input=[12, 3, 4, 21, 17, 16, 19, 12, 7, 34] Target=[3, 4, 7, 12, 12, 16, 17, 19, 21, 34], Output=[3, 4, 7, 12, 12, 16, 17, 19, 21, 34]\n",
      "Input=[7, 20, 7, 30, 34, 4, 6, 16, 3, 34] Target=[3, 4, 6, 7, 7, 16, 20, 30, 34, 34], Output=[3, 4, 6, 7, 7, 16, 20, 30, 34, 34]\n",
      "Input=[4, 6, 20, 24, 14, 8, 4, 26, 28, 27] Target=[4, 4, 6, 8, 14, 20, 24, 26, 27, 28], Output=[4, 4, 6, 8, 14, 20, 24, 26, 27, 28]\n",
      "Input=[32, 24, 1, 21, 21, 28, 4, 23, 4, 5] Target=[1, 4, 4, 5, 21, 21, 23, 24, 28, 32], Output=[1, 4, 4, 5, 21, 21, 23, 24, 28, 32]\n",
      "Input=[29, 29, 27, 31, 25, 31, 15, 35, 3, 15] Target=[3, 15, 15, 25, 27, 29, 29, 31, 31, 35], Output=[3, 15, 15, 25, 27, 29, 29, 31, 31, 35]\n",
      "Input=[34, 25, 11, 26, 18, 19, 20, 27, 22, 17] Target=[11, 17, 18, 19, 20, 22, 25, 26, 27, 34], Output=[11, 17, 18, 19, 20, 22, 25, 26, 27, 34]\n",
      "Input=[25, 29, 4, 34, 9, 31, 23, 23, 15, 6] Target=[4, 6, 9, 15, 23, 23, 25, 29, 31, 34], Output=[4, 6, 9, 15, 23, 23, 25, 29, 31, 34]\n",
      "Input=[5, 8, 25, 11, 1, 23, 6, 14, 16, 4] Target=[1, 4, 5, 6, 8, 11, 14, 16, 23, 25], Output=[1, 4, 5, 6, 8, 11, 14, 16, 23, 25]\n"
     ]
    }
   ],
   "source": [
    "# evaluate LSTM\n",
    "total, correct = 100, 0\n",
    "cardinality = features + 1\n",
    "length = 10\n",
    "\n",
    "#to get an accuracy check, test 100 sequences of 10 samples\n",
    "for _ in range(total):\n",
    "    #build 100 test sequences\n",
    "    testin1, testin2, testout = my.quickBuild(1,1)\n",
    "    #for each sample (1Darray)...\n",
    "    target = testNetwork(encoder, decoder, testin1, length, cardinality)\n",
    "    if array_equal(my.OHdecode(testout[0]), my.OHdecode(target)):\n",
    "        correct += 1\n",
    "\n",
    "print('Accuracy: %.2f%%' % (float(correct)/float(total)*100.0))\n",
    "\n",
    "\n",
    "#spot check some examples\n",
    "for _ in range(10):\n",
    "    X1, X2, y = my.quickBuild(1,1)\n",
    "    target = testNetwork(encoder, decoder, X1, length, cardinality)\n",
    "    print('Input=%s Target=%s, Output=%s' % (my.OHdecode(X1[0]), my.OHdecode(y[0]), my.OHdecode(target)))"
   ]
  },
  {
   "cell_type": "code",
   "execution_count": 9,
   "metadata": {
    "scrolled": true
   },
   "outputs": [
    {
     "data": {
      "image/png": "[encoded data removed]",
      "text/plain": [
       "<Figure size 432x288 with 2 Axes>"
      ]
     },
     "metadata": {
      "needs_background": "light"
     },
     "output_type": "display_data"
    }
   ],
   "source": [
    "#this plots the training accuracy and loss over time - ONLY FOR TEACHER-FORCING MODEL\n",
    "plt.figure(1)\n",
    "#summarize history for accuracy\n",
    "plt.subplot(211)\n",
    "plt.plot(history.history['accuracy'])\n",
    "plt.title('model accuracy')\n",
    "plt.ylabel('accuracy')\n",
    "plt.xlabel('epoch')\n",
    "#summarize history for loss\n",
    "plt.subplot(212)\n",
    "plt.plot(history.history['loss'])\n",
    "plt.title('model loss')\n",
    "plt.ylabel('loss')\n",
    "plt.xlabel('epoch')\n",
    "plt.tight_layout()\n",
    "plt.show()"
   ]
  },
  {
   "cell_type": "code",
   "execution_count": 10,
   "metadata": {},
   "outputs": [],
   "source": [
    "#####Exports model for later use -- commented out for use with the restart-and-rerun notebook command\n",
    "#####I don't want to accidentally save over my good model with a worse one\n",
    "#model_json = model.to_json()\n",
    "\n",
    "#with open('model76pctrue.json', 'w') as json_file:\n",
    "#    json_file.write(model_json)\n",
    "#\n",
    "#model.save_weights(\"model76pctrue.h5\")\n",
    "#print(\"Saved Model to Disk\")"
   ]
  },
  {
   "cell_type": "code",
   "execution_count": 11,
   "metadata": {},
   "outputs": [],
   "source": [
    "#####Exports encoder and decoder networks for later use -- \n",
    "#####commented out for use with the restart-and-rerun notebook command\n",
    "#####I don't want to accidentally save over my good model with a worse one\n",
    "\n",
    "#encoder_json = encoder.to_json()\n",
    "#with open('enc76pc.json', 'w') as json_file:\n",
    "#    json_file.write(encoder_json)\n",
    "#    \n",
    "#encoder.save_weights(\"encoder76pc.h5\")\n",
    "#decoder_json = decoder.to_json()\n",
    "#with open('dec76pc.json', 'w') as json_file:\n",
    "#    json_file.write(decoder_json)\n",
    "#    \n",
    "#decoder.save_weights(\"decoder76pc.h5\")"
   ]
  },
  {
   "cell_type": "code",
   "execution_count": null,
   "metadata": {},
   "outputs": [],
   "source": []
  }
 ],
 "metadata": {
  "kernelspec": {
   "display_name": "Python 3",
   "language": "python",
   "name": "python3"
  },
  "language_info": {
   "codemirror_mode": {
    "name": "ipython",
    "version": 3
   },
   "file_extension": ".py",
   "mimetype": "text/x-python",
   "name": "python",
   "nbconvert_exporter": "python",
   "pygments_lexer": "ipython3",
   "version": "3.7.3"
  }
 },
 "nbformat": 4,
 "nbformat_minor": 2
}
